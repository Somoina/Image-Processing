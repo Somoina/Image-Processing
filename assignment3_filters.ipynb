{
 "cells": [
  {
   "cell_type": "code",
   "execution_count": 1,
   "metadata": {},
   "outputs": [],
   "source": [
    "%load_ext autoreload\n",
    "%autoreload 2\n",
    "import numpy as np\n",
    "import matplotlib\n",
    "import matplotlib.pyplot as plt\n",
    "import time\n",
    "import imagetools.assignment3 as im\n",
    "from imagetools.provided import *\n",
    "%matplotlib notebook\n"
   ]
  },
  {
   "cell_type": "markdown",
   "metadata": {},
   "source": [
    "# Separable Convolutions"
   ]
  },
  {
   "cell_type": "code",
   "execution_count": 4,
   "metadata": {},
   "outputs": [],
   "source": [
    "def shift(x, k, l, boundary):\n",
    "    \n",
    "    n1, n2 = x.shape[:2]\n",
    "\n",
    "    if boundary is 'periodical':\n",
    "        xshifted = np.zeros(x.shape)\n",
    "        irange = np.mod(np.arange(n1) + k, n1)\n",
    "        jrange = np.mod(np.arange(n2) + l, n2)\n",
    "        xshifted = x[irange, :][:, jrange]\n",
    "        return xshifted\n",
    "    if boundary is 'zero':\n",
    "        xshifted = shift(x,k,l,'extension')\n",
    "        if k < 0:\n",
    "            xshifted[0:-k,:] = 0\n",
    "        elif k >= 0:\n",
    "             xshifted[n1-k:n1,:] = 0\n",
    "        if l < 0:\n",
    "            xshifted[:,0:-l] = 0\n",
    "        elif l >= 0:\n",
    "             xshifted[:,n2-l:n2] = 0\n",
    "    k = -k\n",
    "    l = -l\n",
    "    if boundary is 'extension':\n",
    "        xshifted = np.zeros(x.shape)\n",
    "        irange = np.pad(np.arange(max(0,-k),min(n1-k,n1)),(max(k,0),max(0,-k)), 'constant', constant_values=(0, n1-1))\n",
    "        jrange = np.pad(np.arange(max(0,-l),min(n2-l,n2)),(max(l,0),max(0,-l)), 'constant', constant_values=(0, n2-1))\n",
    "        xshifted = x[irange, :][:, jrange]\n",
    "        return xshifted\n",
    "    if boundary is 'mirror':\n",
    "        xshifted = np.zeros(x.shape)\n",
    "        irange = np.pad(np.arange(max(0,-k),min(n1-k,n1)),(max(k,0),max(0,-k)), 'reflect')\n",
    "        jrange = np.pad(np.arange(max(0,-l),min(n2-l,n2)),(max(l,0),max(0,-l)), 'reflect')\n",
    "        xshifted = x[irange, :][:, jrange]\n",
    "\n",
    "    return xshifted\n"
   ]
  },
  {
   "cell_type": "markdown",
   "metadata": {},
   "source": [
    "## Question 1"
   ]
  },
  {
   "cell_type": "code",
   "execution_count": 2,
   "metadata": {},
   "outputs": [],
   "source": [
    "def kernel1(name,tau):\n",
    "    eps=1e-3\n",
    "    if name is 'gaussian':\n",
    "        i =0\n",
    "        while (np.exp(-(i**2)/(2*tau**2)) >eps):\n",
    "            i+=1\n",
    "        \n",
    "        nx = i-1\n",
    "        ny =i-1\n",
    "        #points in the range\n",
    "        i = np.arange(-nx, nx+1, 1)\n",
    "        j = np.arange(-ny, ny+1, 1)\n",
    "        \n",
    "        #create a grid and evaluate the kernel atevery i,j\n",
    "        xx, yy = np.meshgrid(i, j, indexing='ij')\n",
    "        f_ij = np.exp(-(xx**2+yy**2 )/(2*tau**2)) \n",
    "                  \n",
    "        \n",
    "    if name is 'exponential':\n",
    "        i =0\n",
    "        while (np.exp(-np.sqrt((i**2))/(tau)) >eps):\n",
    "            i+=1\n",
    "        \n",
    "        nx = i-1\n",
    "        ny =i-1\n",
    "        #points in the range\n",
    "        i = np.arange(-nx, nx+1, 1)\n",
    "        j = np.arange(-ny, ny+1, 1)\n",
    "        #create a grid and evaluate the kernel atevery i,j\n",
    "        xx, yy = np.meshgrid(i, j, indexing='ij')\n",
    "        f_ij = np.exp(np.sqrt(xx**2 + yy**2)/-tau) \n",
    "        \n",
    "    \n",
    "    if name is 'box':\n",
    "        f_ij =np.ones((tau,tau))\n",
    "            \n",
    "    Z =np.sum(f_ij)\n",
    "    nu = (1/Z)*f_ij\n",
    "    return nu\n",
    "\n",
    "def kernel(name, tau):\n",
    "    \n",
    "    eps=1e-3\n",
    "    if name is 'grad1_forward':\n",
    "        nu = np.zeros((3, 1))\n",
    "        nu[1, 0] = -1\n",
    "        nu[2, 0] = 1\n",
    "    if name is 'grad2_forward':\n",
    "        nu = np.zeros((1, 3))\n",
    "        nu[0, 1] = -1\n",
    "        nu[0, 2] = 1\n",
    "    if name is 'grad1_backward':\n",
    "        nu = np.zeros((3, 1))\n",
    "        nu[0, 0] = -1\n",
    "        nu[1, 0] = 1\n",
    "    if name is 'grad2_backward':\n",
    "        nu = np.zeros((1, 3))\n",
    "        nu[0, 0] = -1\n",
    "        nu[0, 1] = 1\n",
    "    if name is 'laplacian1':\n",
    "        nu = np.zeros((3, 1))\n",
    "        nu[0, 0] = 1\n",
    "        nu[1, 0] = -2\n",
    "        nu[2, 0] = 1\n",
    "        return nu\n",
    "    if name is 'laplacian2':\n",
    "        nu = np.zeros((1, 3))\n",
    "        nu[0, 0] = 1\n",
    "        nu[0, 1] = -2\n",
    "        nu[0, 2] = 1\n",
    "        return nu\n",
    "    \n",
    "    if name.startswith('gauss'):\n",
    "        i =0\n",
    "        while (np.exp(-(i**2)/(2*tau**2)) >eps):\n",
    "            i+=1\n",
    "\n",
    "        ny =i-1\n",
    "        #points in the range\n",
    "        j = np.arange(-ny, ny+1, 1)\n",
    "\n",
    "        f_ij = np.exp(-(j**2)/(2*tau**2))\n",
    "        \n",
    "    if name.startswith('exp'):\n",
    "        i =0\n",
    "        while (np.exp(-np.sqrt((i**2))/(tau)) >eps):\n",
    "            i+=1\n",
    "            \n",
    "        ny =i-1\n",
    "        #points in the range\n",
    "        j = np.arange(-ny, ny+1, 1)\n",
    "\n",
    "        f_ij = np.exp(np.sqrt(j**2)/-tau)\n",
    "        \n",
    "        \n",
    "    if name.startswith('box'):\n",
    "        s1 =s2=np.floor(tau)\n",
    "        i,j = np.meshgrid(np.arange(-s1,s1+1),np.arange(-s2,s2+1),indexing='ij')\n",
    "        f_ij =np.maximum(np.abs(i),np.abs(j)) <=tau\n",
    "        nu = (1/Z)*f_ij\n",
    "    \n",
    "    if name.endswith('1'):\n",
    "        sh = f_ij.shape[0]\n",
    "        f_ij = f_ij.reshape(sh,1)\n",
    "        Z =np.sum(f_ij)\n",
    "        nu = (1/Z)*f_ij\n",
    "        \n",
    "    if name.endswith('2'):\n",
    "        sh = f_ij.shape[0]\n",
    "        f_ij = f_ij.reshape(1,sh)\n",
    "        Z =np.sum(f_ij)\n",
    "        nu = (1/Z)*f_ij\n",
    "\n",
    "    return nu\n"
   ]
  },
  {
   "cell_type": "markdown",
   "metadata": {},
   "source": [
    "## Question 2"
   ]
  },
  {
   "cell_type": "code",
   "execution_count": null,
   "metadata": {},
   "outputs": [],
   "source": [
    "def convolve(x, nu, boundary='periodical', separable=None):\n",
    "  \n",
    "    \n",
    "    if separable is None:\n",
    "        n1, n2 = x.shape[:2]        \n",
    "        s1 = int((nu.shape[0] - 1) / 2)\n",
    "        s2 = int((nu.shape[1] - 1) / 2)\n",
    "        xconv = np.zeros(x.shape)\n",
    "        \n",
    "        for k in range(-s1, s1+1):\n",
    "            for l in range(-s2, s2+1):\n",
    "                #shift the image            \n",
    "                xshift = shift(x, -k,-l,boundary) \n",
    "\n",
    "                xshift = shift(x, -k,-l,boundary)\n",
    "                xconv += (nu[k+s1,l+s2]*xshift)\n",
    "                \n",
    "    if separable is 'product':\n",
    "        n1, n2 = x.shape[:2]\n",
    "        s = nu[0].shape[0]\n",
    "        nuu = nu\n",
    "        for i in range(2):\n",
    "            nu = nuu[i]\n",
    "            s1 = int((nu.shape[0] - 1) / 2)\n",
    "            s2 = int((nu.shape[1] - 1) / 2)\n",
    "            xconv = np.zeros(x.shape)\n",
    "            \n",
    "            for k in range(-s1, s1+1):\n",
    "                for l in range(-s2, s2+1):\n",
    "                    #shift the image            \n",
    "                    \n",
    "\n",
    "                    xshift = shift(x, -k,-l,boundary)\n",
    "                    xconv += (nu[k+s1,l+s2]*xshift)\n",
    "            x = xconv\n",
    "            \n",
    "    if separable is 'sum':\n",
    "        n1, n2 = x.shape[:2]\n",
    "        s = nu[0].shape[0]\n",
    "        nuu = nu\n",
    "        xconv = np.zeros(x.shape)\n",
    "        for i in range(2):\n",
    "            nu = nuu[i]\n",
    "            s1 = int((nu.shape[0] - 1) / 2)\n",
    "            s2 = int((nu.shape[1] - 1) / 2)\n",
    "            \n",
    "            \n",
    "            for k in range(-s1, s1+1):\n",
    "                for l in range(-s2, s2+1):\n",
    "                    #shift the image            \n",
    "                    \n",
    "\n",
    "                    xshift = shift(x, -k,-l,boundary)\n",
    "                    xconv += (nu[k+s1,l+s2]*xshift)\n",
    "           \n",
    "        \n",
    "\n",
    "\n",
    "    return xconv"
   ]
  },
  {
   "cell_type": "markdown",
   "metadata": {},
   "source": [
    "## Question 3"
   ]
  },
  {
   "cell_type": "code",
   "execution_count": null,
   "metadata": {},
   "outputs": [],
   "source": [
    "tau =4\n",
    "x = plt.imread('assets/train.png')\n",
    "nu1   = kernel('gaussian1', tau)\n",
    "nu2   = kernel('gaussian2', tau)\n",
    "nu    = ( nu1, nu2 )\n",
    "t1 = time.time()\n",
    "xconv = convolve(x, nu, boundary='mirror', separable='product')\n",
    "t2 = time.time()\n",
    "tsep = t2-t1\n",
    "\n",
    "nu    = kernel1('gaussian', tau)\n",
    "t1 = time.time()\n",
    "xconv0 = convolve1(x, nu, boundary='mirror')\n",
    "t2 = time.time()\n",
    "tnsep = t2-t1\n",
    "\n",
    "print('Test results are similar?',np.allclose(xconv,xconv0))\n",
    "\n",
    "import imagetools as im\n",
    "fig, axes = plt.subplots(ncols=3, figsize=(7, 2))\n",
    "im.show(x, ax=axes[0])\n",
    "axes[0].set_title('Original')\n",
    "im.show(xconv0, ax=axes[1])\n",
    "axes[1].set_title(\" Non-Separable takes {:.2f} s \".format(tnsep))\n",
    "im.show(xconv, ax=axes[2])\n",
    "axes[2].set_title(\" Separable takes {:.2f} s \".format(tsep))\n",
    "fig.show()"
   ]
  },
  {
   "cell_type": "markdown",
   "metadata": {},
   "source": [
    "# 2 Derivative Filters\n",
    "## Question 4"
   ]
  },
  {
   "cell_type": "code",
   "execution_count": null,
   "metadata": {},
   "outputs": [],
   "source": [
    "from scipy import ndimage, misc\n",
    "y = plt.imread('assets/race.png')\n",
    "#forward 1\n",
    "nu_fwd_1 = kernel('grad1_forward',0)\n",
    "y_fwd_1 = convolve(y, nu_fwd_1, boundary='mirror')\n",
    "#forward 2\n",
    "nu_fwd_2 = kernel('grad2_forward',0)\n",
    "y_fwd_2 = convolve(y, nu_fwd_2, boundary='mirror')\n",
    "#backward 1\n",
    "nu_bkd_1 = kernel('grad1_backward',0)\n",
    "y_bkd_1 = convolve(y, nu_bkd_1, boundary='mirror')\n",
    "#backward 2\n",
    "nu_bkd_2 = kernel('grad2_backward',0)\n",
    "y_bkd_2 = convolve(y, nu_bkd_2, boundary='mirror')\n",
    "#laplacian1\n",
    "nu_lp_1 = kernel('laplacian1',0)\n",
    "y_lp_1 = convolve(y, nu_lp_1, boundary='mirror')\n",
    "#laplacian2\n",
    "nu_lp_2 = kernel('laplacian2',0)\n",
    "y_lp_2 = convolve(y, nu_lp_2, boundary='mirror')\n",
    "print(y_bkd_1.shape)"
   ]
  },
  {
   "cell_type": "code",
   "execution_count": null,
   "metadata": {},
   "outputs": [],
   "source": [
    "import imagetools as im\n",
    "fig, axes = plt.subplots(ncols=6, figsize=(13, 2))\n",
    "im.show(y_fwd_1[80:240,150:350,:], ax=axes[0], vmin=-0.2, vmax=0.2)\n",
    "axes[0].set_title('Forward 1')\n",
    "im.show(y_fwd_2[80:240,150:350,:], ax=axes[1],vmin=-0.2, vmax=0.2)\n",
    "axes[1].set_title('Forward 2')\n",
    "im.show(y_bkd_1[80:240,150:350,:], ax=axes[2],vmin=-0.2, vmax=0.2)\n",
    "axes[2].set_title('Backward 1')\n",
    "im.show(y_bkd_2[80:240,150:350,:], ax=axes[3],vmin=-0.2, vmax=0.2)\n",
    "axes[3].set_title('Backward 2')\n",
    "im.show(y_lp_1[80:240,150:350,:], ax=axes[4],vmin=-0.2, vmax=0.2)\n",
    "axes[4].set_title('Laplacian 1')\n",
    "im.show(y_lp_2[80:240,150:350,:], ax=axes[5],vmin=-0.2, vmax=0.2)\n",
    "axes[5].set_title('Laplacian 2')\n",
    "fig.show()\n"
   ]
  },
  {
   "cell_type": "markdown",
   "metadata": {},
   "source": [
    "## Question 6 and 8\n",
    "\n",
    "The backward difference matrix is:\n",
    "$\\begin{bmatrix}\n",
    "1 & 0 & 0 & -1 \\\\\n",
    "-1 & 1 & 0 & 0 \\\\\n",
    "0 & -1 & 1 & 0 \\\\\n",
    "0 & 0 & -1 & 1 \n",
    "\\end{bmatrix}$\n",
    "\n",
    "And its transpose is:\n",
    "$\\begin{bmatrix}\n",
    "1 & -1 & 0 & 0 \\\\\n",
    "0 & 1 & -1 & 0 \\\\\n",
    "0 & 0 & 1 & -1 \\\\\n",
    "-1 & 0 & 0 & 1 \n",
    "\\end{bmatrix}$\n",
    "\n",
    "that's the negative of the forward difference matrix as required\n"
   ]
  },
  {
   "cell_type": "code",
   "execution_count": null,
   "metadata": {},
   "outputs": [],
   "source": [
    "#proof on 4-d signal\n",
    "sig_4 = (np.array([1, 2,9,5])).reshape(4,1)\n",
    "\n",
    "\n",
    "s1 = sig_4.shape[0]\n",
    "s2 = nu_fwd_1.shape[0]\n",
    "\n",
    "nu_fwd_1mat = np.array([[-1, 1,0,0],[0,-1, 1,0],[0,0,-1,1],[1,0,0,-1]])\n",
    "res_1 = convolve(sig_4, nu_fwd_1, boundary='periodical')\n",
    "res_2 = np.dot(nu_fwd_1mat,np.flip(sig_4,axis=0))\n",
    "\n",
    "nu_bkd_1mat = np.array([[1, 0,0,-1],[-1,1, 0,0],[0,-1,1,0],[0,0,-1,1]])\n",
    "res_1 = convolve(sig_4, nu_bkd_1, boundary='periodical')\n",
    "res_2 = np.dot(nu_bkd_1mat,np.flip(sig_4,axis=0))\n",
    "\n",
    "\n",
    "print(res_1,res_2)\n",
    "print(nu_fwd_1mat)"
   ]
  },
  {
   "cell_type": "markdown",
   "metadata": {},
   "source": [
    "## Question 7 and 8\n",
    "From the analysis below we observe that the two operations are equal, therefore the linear operations are adjoint"
   ]
  },
  {
   "cell_type": "code",
   "execution_count": null,
   "metadata": {},
   "outputs": [],
   "source": [
    "x = plt.imread('assets/train.png')\n",
    "y = plt.imread('assets/race.png')\n",
    "lhs_1 = convolve(y, nu_bkd_1, boundary='periodical') \n",
    "lhs = np.sum(lhs_1*x)\n",
    "\n",
    "rhs_1 = convolve(x, nu_fwd_1, boundary='periodical') \n",
    "rhs = np.sum(rhs_1*y)\n",
    "\n",
    "print(\"Are the two equal?\",np.isclose(lhs,-rhs))"
   ]
  },
  {
   "cell_type": "code",
   "execution_count": null,
   "metadata": {},
   "outputs": [],
   "source": [
    "x_4 = (np.array([1, 2,9,5])).reshape(4,1)\n",
    "y_4 = (np.array([2, 4,9,8])).reshape(4,1)\n",
    "\n",
    "lhs_1 = np.dot(nu_bkd_1mat,np.flip(y_4,axis=0))\n",
    "lhs = np.sum((np.flip(lhs_1,axis=0))*x_4)\n",
    "\n",
    "\n",
    "rhs_1 = np.dot(nu_fwd_1mat,np.flip(x_4,axis=0))\n",
    "rhs = np.sum((np.flip(rhs_1,axis=0))*y_4)\n",
    "\n",
    "\n",
    "print(\"Are the two equal?\",np.isclose(lhs,-rhs))"
   ]
  },
  {
   "cell_type": "markdown",
   "metadata": {},
   "source": [
    "## Question 9\n",
    "\n",
    "It is true only for the periodical condition"
   ]
  },
  {
   "cell_type": "code",
   "execution_count": null,
   "metadata": {},
   "outputs": [],
   "source": [
    "boundary = ['extension','mirror','periodical']\n",
    "for b in boundary:\n",
    "    conv_1 = convolve(y, nu_fwd_1, b) \n",
    "    conv_2 = convolve(conv_1, nu_bkd_1, b) \n",
    "    conv_3 = convolve(y, nu_lp_1, b) \n",
    "    print(\"Are the two equal?\",np.allclose(conv_2,conv_3), b)"
   ]
  },
  {
   "cell_type": "markdown",
   "metadata": {},
   "source": [
    "## Question 10"
   ]
  },
  {
   "cell_type": "code",
   "execution_count": null,
   "metadata": {},
   "outputs": [],
   "source": [
    "conv1 = np.dot(nu_fwd_1mat,np.flip(y_4,axis=0))\n",
    "conv2 = np.dot(nu_bkd_1mat,conv1)\n",
    "conv3 = convolve(y_4, nu_lp_1, 'periodical') \n",
    "\n",
    "print(\"Are the two equal?\",np.allclose(np.flip(conv2,axis=0),conv3), b)"
   ]
  },
  {
   "cell_type": "markdown",
   "metadata": {},
   "source": [
    "## Question 11"
   ]
  },
  {
   "cell_type": "code",
   "execution_count": 11,
   "metadata": {},
   "outputs": [],
   "source": [
    "def laplacian(x, boundary='periodical'):\n",
    "    nu1 = kernel('laplacian1',0)\n",
    "    nu2 = kernel('laplacian2',0)\n",
    "    nu = (nu1,nu2)\n",
    "    lap =convolve(x, nu, boundary, separable='sum')\n",
    "    return lap"
   ]
  },
  {
   "cell_type": "markdown",
   "metadata": {},
   "source": [
    "## Question 12"
   ]
  },
  {
   "cell_type": "code",
   "execution_count": 12,
   "metadata": {},
   "outputs": [],
   "source": [
    "def grad(x, boundary='periodical'):\n",
    "    y =x\n",
    "    #forward 1\n",
    "    nu_fwd_1 = kernel('grad1_forward',0)\n",
    "    y_fwd_1 = convolve(y, nu_fwd_1, boundary)\n",
    "    #forward 2\n",
    "    nu_fwd_2 = kernel('grad2_forward',0)\n",
    "    y_fwd_2 = convolve(y, nu_fwd_2, boundary)\n",
    "    \n",
    "    g = np.stack([y_fwd_1,y_fwd_2],axis=-1)\n",
    "    return g"
   ]
  },
  {
   "cell_type": "markdown",
   "metadata": {},
   "source": [
    "## Question 13"
   ]
  },
  {
   "cell_type": "code",
   "execution_count": 33,
   "metadata": {},
   "outputs": [],
   "source": [
    "def div(f, boundary='periodical'):\n",
    "    #forward 1\n",
    "    nu_fwd_1 = kernel('grad1_backward',0)\n",
    "    y_fwd_1 = convolve(f[...,0], nu_fwd_1, boundary)\n",
    "    #forward 2\n",
    "    nu_fwd_2 = kernel('grad2_backward',0)\n",
    "    y_fwd_2 = convolve(f[...,1], nu_fwd_2, boundary)\n",
    "    g = np.stack([y_fwd_1,y_fwd_2],axis=-1)\n",
    "    d = np.sum(g,axis=-1)\n",
    "    return d"
   ]
  },
  {
   "cell_type": "markdown",
   "metadata": {},
   "source": [
    "## Question 14"
   ]
  },
  {
   "cell_type": "code",
   "execution_count": 34,
   "metadata": {},
   "outputs": [
    {
     "name": "stdout",
     "output_type": "stream",
     "text": [
      "(321, 481, 3)\n",
      "Are the two equal? True\n"
     ]
    }
   ],
   "source": [
    "lhs = div(grad(x,'periodical'),'periodical')\n",
    "rhs = laplacian(x,'periodical')\n",
    "print(\"Are the two equal?\",np.allclose(rhs,lhs))"
   ]
  },
  {
   "cell_type": "code",
   "execution_count": 35,
   "metadata": {},
   "outputs": [
    {
     "ename": "NameError",
     "evalue": "name 'y' is not defined",
     "output_type": "error",
     "traceback": [
      "\u001b[0;31m---------------------------------------------------------------------------\u001b[0m",
      "\u001b[0;31mNameError\u001b[0m                                 Traceback (most recent call last)",
      "\u001b[0;32m<ipython-input-35-eb553a119ee0>\u001b[0m in \u001b[0;36m<module>\u001b[0;34m()\u001b[0m\n\u001b[1;32m      1\u001b[0m \u001b[0mgrad_x\u001b[0m \u001b[0;34m=\u001b[0m \u001b[0mgrad\u001b[0m\u001b[0;34m(\u001b[0m\u001b[0mx\u001b[0m\u001b[0;34m,\u001b[0m\u001b[0;34m'periodical'\u001b[0m\u001b[0;34m)\u001b[0m\u001b[0;34m\u001b[0m\u001b[0m\n\u001b[0;32m----> 2\u001b[0;31m \u001b[0mgrad_y\u001b[0m \u001b[0;34m=\u001b[0m \u001b[0mgrad\u001b[0m\u001b[0;34m(\u001b[0m\u001b[0my\u001b[0m\u001b[0;34m,\u001b[0m\u001b[0;34m'periodical'\u001b[0m\u001b[0;34m)\u001b[0m\u001b[0;34m\u001b[0m\u001b[0m\n\u001b[0m\u001b[1;32m      3\u001b[0m \u001b[0mlap_x\u001b[0m \u001b[0;34m=\u001b[0m \u001b[0mlaplacian\u001b[0m\u001b[0;34m(\u001b[0m\u001b[0mx\u001b[0m\u001b[0;34m,\u001b[0m\u001b[0;34m'periodical'\u001b[0m\u001b[0;34m)\u001b[0m\u001b[0;34m\u001b[0m\u001b[0m\n\u001b[1;32m      4\u001b[0m \u001b[0;34m\u001b[0m\u001b[0m\n\u001b[1;32m      5\u001b[0m \u001b[0mlhs\u001b[0m \u001b[0;34m=\u001b[0m \u001b[0mnp\u001b[0m\u001b[0;34m.\u001b[0m\u001b[0msum\u001b[0m\u001b[0;34m(\u001b[0m\u001b[0mgrad_x\u001b[0m\u001b[0;34m*\u001b[0m\u001b[0mgrad_y\u001b[0m\u001b[0;34m)\u001b[0m\u001b[0;34m\u001b[0m\u001b[0m\n",
      "\u001b[0;31mNameError\u001b[0m: name 'y' is not defined"
     ]
    }
   ],
   "source": [
    "grad_x = grad(x,'periodical')\n",
    "grad_y = grad(y,'periodical')\n",
    "lap_x = laplacian(x,'periodical')\n",
    "\n",
    "lhs = np.sum(grad_x*grad_y)\n",
    "rhs = np.sum(lap_x*y)\n",
    "print(\"Are the two equal?\",np.allclose(lhs,-rhs), b)"
   ]
  },
  {
   "cell_type": "code",
   "execution_count": null,
   "metadata": {},
   "outputs": [],
   "source": []
  }
 ],
 "metadata": {
  "kernelspec": {
   "display_name": "Python 3",
   "language": "python",
   "name": "python3"
  },
  "language_info": {
   "codemirror_mode": {
    "name": "ipython",
    "version": 3
   },
   "file_extension": ".py",
   "mimetype": "text/x-python",
   "name": "python",
   "nbconvert_exporter": "python",
   "pygments_lexer": "ipython3",
   "version": "3.6.4"
  }
 },
 "nbformat": 4,
 "nbformat_minor": 2
}
